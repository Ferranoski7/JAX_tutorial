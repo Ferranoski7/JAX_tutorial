{
 "cells": [
  {
   "cell_type": "markdown",
   "id": "e4bbe10c",
   "metadata": {},
   "source": [
    "---\n",
    "# JAX\n",
    "\n",
    "#### Tutorial by Ferran Jimenez \n",
    "---\n",
    "\n",
    "The contents of this notebook explain the main features of the JAX library. The topics discussed are what follows:\n",
    "\n",
    "1. JAX's NumPy\n",
    "    1. Similarities\n",
    "    2. Differences\n",
    "\n",
    "3. LAX\n",
    "    1. What is it?\n",
    "    2. How to use it\n",
    "2. Autodifferentiation\n",
    "4. JIT\n",
    "    1. What is it?\n",
    "    2. How to use it\n",
    "5. Vmap\n"
   ]
  },
  {
   "cell_type": "code",
   "execution_count": 28,
   "id": "81e9edab",
   "metadata": {},
   "outputs": [
    {
     "name": "stdout",
     "output_type": "stream",
     "text": [
      "Requirement already satisfied: tensorflow-datasets in ./mynotebookenv/lib/python3.9/site-packages (4.6.0)\n",
      "Requirement already satisfied: numpy in ./mynotebookenv/lib/python3.9/site-packages (from tensorflow-datasets) (1.23.3)\n",
      "Requirement already satisfied: requests>=2.19.0 in ./mynotebookenv/lib/python3.9/site-packages (from tensorflow-datasets) (2.28.1)\n",
      "Requirement already satisfied: promise in ./mynotebookenv/lib/python3.9/site-packages (from tensorflow-datasets) (2.3)\n",
      "Requirement already satisfied: etils[epath] in ./mynotebookenv/lib/python3.9/site-packages (from tensorflow-datasets) (0.8.0)\n",
      "Requirement already satisfied: six in ./mynotebookenv/lib/python3.9/site-packages (from tensorflow-datasets) (1.16.0)\n",
      "Requirement already satisfied: absl-py in ./mynotebookenv/lib/python3.9/site-packages (from tensorflow-datasets) (1.2.0)\n",
      "Requirement already satisfied: protobuf>=3.12.2 in ./mynotebookenv/lib/python3.9/site-packages (from tensorflow-datasets) (3.19.5)\n",
      "Requirement already satisfied: toml in ./mynotebookenv/lib/python3.9/site-packages (from tensorflow-datasets) (0.10.2)\n",
      "Requirement already satisfied: dill in ./mynotebookenv/lib/python3.9/site-packages (from tensorflow-datasets) (0.3.5.1)\n",
      "Requirement already satisfied: tqdm in ./mynotebookenv/lib/python3.9/site-packages (from tensorflow-datasets) (4.64.1)\n",
      "Requirement already satisfied: tensorflow-metadata in ./mynotebookenv/lib/python3.9/site-packages (from tensorflow-datasets) (1.10.0)\n",
      "Requirement already satisfied: termcolor in ./mynotebookenv/lib/python3.9/site-packages (from tensorflow-datasets) (2.0.1)\n",
      "Requirement already satisfied: charset-normalizer<3,>=2 in ./mynotebookenv/lib/python3.9/site-packages (from requests>=2.19.0->tensorflow-datasets) (2.1.1)\n",
      "Requirement already satisfied: idna<4,>=2.5 in ./mynotebookenv/lib/python3.9/site-packages (from requests>=2.19.0->tensorflow-datasets) (3.4)\n",
      "Requirement already satisfied: certifi>=2017.4.17 in ./mynotebookenv/lib/python3.9/site-packages (from requests>=2.19.0->tensorflow-datasets) (2022.9.24)\n",
      "Requirement already satisfied: urllib3<1.27,>=1.21.1 in ./mynotebookenv/lib/python3.9/site-packages (from requests>=2.19.0->tensorflow-datasets) (1.26.12)\n",
      "Requirement already satisfied: typing_extensions in ./mynotebookenv/lib/python3.9/site-packages (from etils[epath]->tensorflow-datasets) (4.3.0)\n",
      "Requirement already satisfied: zipp in ./mynotebookenv/lib/python3.9/site-packages (from etils[epath]->tensorflow-datasets) (3.8.1)\n",
      "Requirement already satisfied: importlib_resources in ./mynotebookenv/lib/python3.9/site-packages (from etils[epath]->tensorflow-datasets) (5.9.0)\n",
      "Requirement already satisfied: googleapis-common-protos<2,>=1.52.0 in ./mynotebookenv/lib/python3.9/site-packages (from tensorflow-metadata->tensorflow-datasets) (1.56.4)\n",
      "\n",
      "\u001b[1m[\u001b[0m\u001b[34;49mnotice\u001b[0m\u001b[1;39;49m]\u001b[0m\u001b[39;49m A new release of pip available: \u001b[0m\u001b[31;49m22.2.2\u001b[0m\u001b[39;49m -> \u001b[0m\u001b[32;49m22.3\u001b[0m\n",
      "\u001b[1m[\u001b[0m\u001b[34;49mnotice\u001b[0m\u001b[1;39;49m]\u001b[0m\u001b[39;49m To update, run: \u001b[0m\u001b[32;49mpip install --upgrade pip\u001b[0m\n",
      "Requirement already satisfied: jax in ./mynotebookenv/lib/python3.9/site-packages (0.3.19)\n",
      "Requirement already satisfied: numpy>=1.20 in ./mynotebookenv/lib/python3.9/site-packages (from jax) (1.23.3)\n",
      "Requirement already satisfied: scipy>=1.5 in ./mynotebookenv/lib/python3.9/site-packages (from jax) (1.9.1)\n",
      "Requirement already satisfied: opt-einsum in ./mynotebookenv/lib/python3.9/site-packages (from jax) (3.3.0)\n",
      "Requirement already satisfied: etils[epath] in ./mynotebookenv/lib/python3.9/site-packages (from jax) (0.8.0)\n",
      "Requirement already satisfied: typing-extensions in ./mynotebookenv/lib/python3.9/site-packages (from jax) (4.3.0)\n",
      "Requirement already satisfied: absl-py in ./mynotebookenv/lib/python3.9/site-packages (from jax) (1.2.0)\n",
      "Requirement already satisfied: zipp in ./mynotebookenv/lib/python3.9/site-packages (from etils[epath]->jax) (3.8.1)\n",
      "Requirement already satisfied: importlib_resources in ./mynotebookenv/lib/python3.9/site-packages (from etils[epath]->jax) (5.9.0)\n",
      "\n",
      "\u001b[1m[\u001b[0m\u001b[34;49mnotice\u001b[0m\u001b[1;39;49m]\u001b[0m\u001b[39;49m A new release of pip available: \u001b[0m\u001b[31;49m22.2.2\u001b[0m\u001b[39;49m -> \u001b[0m\u001b[32;49m22.3\u001b[0m\n",
      "\u001b[1m[\u001b[0m\u001b[34;49mnotice\u001b[0m\u001b[1;39;49m]\u001b[0m\u001b[39;49m To update, run: \u001b[0m\u001b[32;49mpip install --upgrade pip\u001b[0m\n",
      "Requirement already satisfied: jaxlib in ./mynotebookenv/lib/python3.9/site-packages (0.3.15)\n",
      "Requirement already satisfied: absl-py in ./mynotebookenv/lib/python3.9/site-packages (from jaxlib) (1.2.0)\n",
      "Requirement already satisfied: scipy>=1.5 in ./mynotebookenv/lib/python3.9/site-packages (from jaxlib) (1.9.1)\n",
      "Requirement already satisfied: numpy>=1.19 in ./mynotebookenv/lib/python3.9/site-packages (from jaxlib) (1.23.3)\n",
      "\n",
      "\u001b[1m[\u001b[0m\u001b[34;49mnotice\u001b[0m\u001b[1;39;49m]\u001b[0m\u001b[39;49m A new release of pip available: \u001b[0m\u001b[31;49m22.2.2\u001b[0m\u001b[39;49m -> \u001b[0m\u001b[32;49m22.3\u001b[0m\n",
      "\u001b[1m[\u001b[0m\u001b[34;49mnotice\u001b[0m\u001b[1;39;49m]\u001b[0m\u001b[39;49m To update, run: \u001b[0m\u001b[32;49mpip install --upgrade pip\u001b[0m\n",
      "Requirement already satisfied: matplotlib in ./mynotebookenv/lib/python3.9/site-packages (3.6.0)\n",
      "Requirement already satisfied: pillow>=6.2.0 in ./mynotebookenv/lib/python3.9/site-packages (from matplotlib) (9.2.0)\n",
      "Requirement already satisfied: python-dateutil>=2.7 in ./mynotebookenv/lib/python3.9/site-packages (from matplotlib) (2.8.2)\n",
      "Requirement already satisfied: kiwisolver>=1.0.1 in ./mynotebookenv/lib/python3.9/site-packages (from matplotlib) (1.4.4)\n",
      "Requirement already satisfied: packaging>=20.0 in ./mynotebookenv/lib/python3.9/site-packages (from matplotlib) (21.3)\n",
      "Requirement already satisfied: numpy>=1.19 in ./mynotebookenv/lib/python3.9/site-packages (from matplotlib) (1.23.3)\n",
      "Requirement already satisfied: fonttools>=4.22.0 in ./mynotebookenv/lib/python3.9/site-packages (from matplotlib) (4.37.3)\n",
      "Requirement already satisfied: pyparsing>=2.2.1 in ./mynotebookenv/lib/python3.9/site-packages (from matplotlib) (3.0.9)\n",
      "Requirement already satisfied: contourpy>=1.0.1 in ./mynotebookenv/lib/python3.9/site-packages (from matplotlib) (1.0.5)\n",
      "Requirement already satisfied: cycler>=0.10 in ./mynotebookenv/lib/python3.9/site-packages (from matplotlib) (0.11.0)\n",
      "Requirement already satisfied: six>=1.5 in ./mynotebookenv/lib/python3.9/site-packages (from python-dateutil>=2.7->matplotlib) (1.16.0)\n",
      "\n",
      "\u001b[1m[\u001b[0m\u001b[34;49mnotice\u001b[0m\u001b[1;39;49m]\u001b[0m\u001b[39;49m A new release of pip available: \u001b[0m\u001b[31;49m22.2.2\u001b[0m\u001b[39;49m -> \u001b[0m\u001b[32;49m22.3\u001b[0m\n",
      "\u001b[1m[\u001b[0m\u001b[34;49mnotice\u001b[0m\u001b[1;39;49m]\u001b[0m\u001b[39;49m To update, run: \u001b[0m\u001b[32;49mpip install --upgrade pip\u001b[0m\n",
      "Requirement already satisfied: flax in ./mynotebookenv/lib/python3.9/site-packages (0.6.0)\n",
      "Requirement already satisfied: numpy>=1.12 in ./mynotebookenv/lib/python3.9/site-packages (from flax) (1.23.3)\n",
      "Requirement already satisfied: msgpack in ./mynotebookenv/lib/python3.9/site-packages (from flax) (1.0.4)\n",
      "Requirement already satisfied: PyYAML>=5.4.1 in ./mynotebookenv/lib/python3.9/site-packages (from flax) (6.0)\n",
      "Requirement already satisfied: matplotlib in ./mynotebookenv/lib/python3.9/site-packages (from flax) (3.6.0)\n",
      "Requirement already satisfied: typing-extensions>=4.1.1 in ./mynotebookenv/lib/python3.9/site-packages (from flax) (4.3.0)\n",
      "Requirement already satisfied: optax in ./mynotebookenv/lib/python3.9/site-packages (from flax) (0.1.3)\n",
      "Requirement already satisfied: jax>=0.3.16 in ./mynotebookenv/lib/python3.9/site-packages (from flax) (0.3.19)\n",
      "Requirement already satisfied: rich~=11.1 in ./mynotebookenv/lib/python3.9/site-packages (from flax) (11.2.0)\n",
      "Requirement already satisfied: absl-py in ./mynotebookenv/lib/python3.9/site-packages (from jax>=0.3.16->flax) (1.2.0)\n",
      "Requirement already satisfied: etils[epath] in ./mynotebookenv/lib/python3.9/site-packages (from jax>=0.3.16->flax) (0.8.0)\n",
      "Requirement already satisfied: scipy>=1.5 in ./mynotebookenv/lib/python3.9/site-packages (from jax>=0.3.16->flax) (1.9.1)\n",
      "Requirement already satisfied: opt-einsum in ./mynotebookenv/lib/python3.9/site-packages (from jax>=0.3.16->flax) (3.3.0)\n",
      "Requirement already satisfied: commonmark<0.10.0,>=0.9.0 in ./mynotebookenv/lib/python3.9/site-packages (from rich~=11.1->flax) (0.9.1)\n",
      "Requirement already satisfied: pygments<3.0.0,>=2.6.0 in ./mynotebookenv/lib/python3.9/site-packages (from rich~=11.1->flax) (2.13.0)\n",
      "Requirement already satisfied: colorama<0.5.0,>=0.4.0 in ./mynotebookenv/lib/python3.9/site-packages (from rich~=11.1->flax) (0.4.5)\n",
      "Requirement already satisfied: pyparsing>=2.2.1 in ./mynotebookenv/lib/python3.9/site-packages (from matplotlib->flax) (3.0.9)\n",
      "Requirement already satisfied: kiwisolver>=1.0.1 in ./mynotebookenv/lib/python3.9/site-packages (from matplotlib->flax) (1.4.4)\n",
      "Requirement already satisfied: cycler>=0.10 in ./mynotebookenv/lib/python3.9/site-packages (from matplotlib->flax) (0.11.0)\n",
      "Requirement already satisfied: pillow>=6.2.0 in ./mynotebookenv/lib/python3.9/site-packages (from matplotlib->flax) (9.2.0)\n",
      "Requirement already satisfied: python-dateutil>=2.7 in ./mynotebookenv/lib/python3.9/site-packages (from matplotlib->flax) (2.8.2)\n",
      "Requirement already satisfied: contourpy>=1.0.1 in ./mynotebookenv/lib/python3.9/site-packages (from matplotlib->flax) (1.0.5)\n",
      "Requirement already satisfied: fonttools>=4.22.0 in ./mynotebookenv/lib/python3.9/site-packages (from matplotlib->flax) (4.37.3)\n",
      "Requirement already satisfied: packaging>=20.0 in ./mynotebookenv/lib/python3.9/site-packages (from matplotlib->flax) (21.3)\n",
      "Requirement already satisfied: jaxlib>=0.1.37 in ./mynotebookenv/lib/python3.9/site-packages (from optax->flax) (0.3.15)\n",
      "Requirement already satisfied: chex>=0.0.4 in ./mynotebookenv/lib/python3.9/site-packages (from optax->flax) (0.1.5)\n"
     ]
    },
    {
     "name": "stdout",
     "output_type": "stream",
     "text": [
      "Requirement already satisfied: dm-tree>=0.1.5 in ./mynotebookenv/lib/python3.9/site-packages (from chex>=0.0.4->optax->flax) (0.1.7)\n",
      "Requirement already satisfied: toolz>=0.9.0 in ./mynotebookenv/lib/python3.9/site-packages (from chex>=0.0.4->optax->flax) (0.12.0)\n",
      "Requirement already satisfied: six>=1.5 in ./mynotebookenv/lib/python3.9/site-packages (from python-dateutil>=2.7->matplotlib->flax) (1.16.0)\n",
      "Requirement already satisfied: importlib_resources in ./mynotebookenv/lib/python3.9/site-packages (from etils[epath]->jax>=0.3.16->flax) (5.9.0)\n",
      "Requirement already satisfied: zipp in ./mynotebookenv/lib/python3.9/site-packages (from etils[epath]->jax>=0.3.16->flax) (3.8.1)\n",
      "\n",
      "\u001b[1m[\u001b[0m\u001b[34;49mnotice\u001b[0m\u001b[1;39;49m]\u001b[0m\u001b[39;49m A new release of pip available: \u001b[0m\u001b[31;49m22.2.2\u001b[0m\u001b[39;49m -> \u001b[0m\u001b[32;49m22.3\u001b[0m\n",
      "\u001b[1m[\u001b[0m\u001b[34;49mnotice\u001b[0m\u001b[1;39;49m]\u001b[0m\u001b[39;49m To update, run: \u001b[0m\u001b[32;49mpip install --upgrade pip\u001b[0m\n",
      "Requirement already satisfied: optax in ./mynotebookenv/lib/python3.9/site-packages (0.1.3)\n",
      "Requirement already satisfied: absl-py>=0.7.1 in ./mynotebookenv/lib/python3.9/site-packages (from optax) (1.2.0)\n",
      "Requirement already satisfied: chex>=0.0.4 in ./mynotebookenv/lib/python3.9/site-packages (from optax) (0.1.5)\n",
      "Requirement already satisfied: jax>=0.1.55 in ./mynotebookenv/lib/python3.9/site-packages (from optax) (0.3.19)\n",
      "Requirement already satisfied: jaxlib>=0.1.37 in ./mynotebookenv/lib/python3.9/site-packages (from optax) (0.3.15)\n",
      "Requirement already satisfied: numpy>=1.18.0 in ./mynotebookenv/lib/python3.9/site-packages (from optax) (1.23.3)\n",
      "Requirement already satisfied: typing-extensions>=3.10.0 in ./mynotebookenv/lib/python3.9/site-packages (from optax) (4.3.0)\n",
      "Requirement already satisfied: dm-tree>=0.1.5 in ./mynotebookenv/lib/python3.9/site-packages (from chex>=0.0.4->optax) (0.1.7)\n",
      "Requirement already satisfied: toolz>=0.9.0 in ./mynotebookenv/lib/python3.9/site-packages (from chex>=0.0.4->optax) (0.12.0)\n",
      "Requirement already satisfied: opt-einsum in ./mynotebookenv/lib/python3.9/site-packages (from jax>=0.1.55->optax) (3.3.0)\n",
      "Requirement already satisfied: etils[epath] in ./mynotebookenv/lib/python3.9/site-packages (from jax>=0.1.55->optax) (0.8.0)\n",
      "Requirement already satisfied: scipy>=1.5 in ./mynotebookenv/lib/python3.9/site-packages (from jax>=0.1.55->optax) (1.9.1)\n",
      "Requirement already satisfied: zipp in ./mynotebookenv/lib/python3.9/site-packages (from etils[epath]->jax>=0.1.55->optax) (3.8.1)\n",
      "Requirement already satisfied: importlib_resources in ./mynotebookenv/lib/python3.9/site-packages (from etils[epath]->jax>=0.1.55->optax) (5.9.0)\n",
      "\n",
      "\u001b[1m[\u001b[0m\u001b[34;49mnotice\u001b[0m\u001b[1;39;49m]\u001b[0m\u001b[39;49m A new release of pip available: \u001b[0m\u001b[31;49m22.2.2\u001b[0m\u001b[39;49m -> \u001b[0m\u001b[32;49m22.3\u001b[0m\n",
      "\u001b[1m[\u001b[0m\u001b[34;49mnotice\u001b[0m\u001b[1;39;49m]\u001b[0m\u001b[39;49m To update, run: \u001b[0m\u001b[32;49mpip install --upgrade pip\u001b[0m\n"
     ]
    }
   ],
   "source": [
    "!pip install tensorflow-datasets\n",
    "!pip install jax\n",
    "!pip install jaxlib\n",
    "!pip install matplotlib\n",
    "!pip install flax\n",
    "!pip install optax"
   ]
  },
  {
   "cell_type": "markdown",
   "id": "80e40f44",
   "metadata": {},
   "source": [
    "## NumPy\n",
    "---\n",
    "### A. Similarities "
   ]
  },
  {
   "cell_type": "markdown",
   "id": "bd287c8b",
   "metadata": {},
   "source": [
    "JAX is a Python library that tries to emulate NumPy while enabling automatic differentiation, precompiling and vectorization to perform high-performance tasks. JAX contains a set of numpy like functions and objects inside jax.numpy"
   ]
  },
  {
   "cell_type": "code",
   "execution_count": 29,
   "id": "e3f8f99a",
   "metadata": {},
   "outputs": [
    {
     "name": "stdout",
     "output_type": "stream",
     "text": [
      "NumPy array\n",
      " [[1. 0. 0.]\n",
      " [0. 1. 0.]\n",
      " [0. 0. 1.]]\n",
      "\n",
      "JAX array\n",
      " [[1. 0. 0.]\n",
      " [0. 1. 0.]\n",
      " [0. 0. 1.]]\n"
     ]
    }
   ],
   "source": [
    "import jax.numpy as jnp\n",
    "import numpy as np\n",
    "\n",
    "np_identity = np.identity(3)\n",
    "\n",
    "jnp_identity = jnp.identity(3)\n",
    "\n",
    "print('NumPy array\\n',np_identity)\n",
    "print('\\nJAX array\\n',jnp_identity)\n",
    "\n"
   ]
  },
  {
   "cell_type": "markdown",
   "id": "087d09e7",
   "metadata": {},
   "source": [
    "NumPy arrays can be operated together with JAX arrays, the resulting arrays becoming JAX arrays"
   ]
  },
  {
   "cell_type": "code",
   "execution_count": 30,
   "id": "9536e25b",
   "metadata": {},
   "outputs": [
    {
     "name": "stdout",
     "output_type": "stream",
     "text": [
      "JAX and Numpy operation\n",
      " [[2. 0. 0.]\n",
      " [0. 2. 0.]\n",
      " [0. 0. 2.]]\n",
      "Object type: <class 'jaxlib.xla_extension.DeviceArray'>\n"
     ]
    }
   ],
   "source": [
    "added_arrays = np_identity+jnp_identity\n",
    "\n",
    "print('JAX and Numpy operation\\n', added_arrays)\n",
    "print('Object type:',type(added_arrays))"
   ]
  },
  {
   "cell_type": "markdown",
   "id": "fd7eefde",
   "metadata": {},
   "source": [
    "### B. Differences\n",
    "\n",
    "Main diferences:\n",
    "\n",
    "1. No operations over lists or tuples\n",
    "2. In-Place updates (substitutions and operations)\n",
    "3. Out of Bounds Indexing\n",
    "4. Memory overflow (256 in uint8 is 255 still)\n"
   ]
  },
  {
   "cell_type": "markdown",
   "id": "7c803b6e",
   "metadata": {},
   "source": [
    "#### 1. No operations over lists or tuples"
   ]
  },
  {
   "cell_type": "code",
   "execution_count": 31,
   "id": "1235685e",
   "metadata": {},
   "outputs": [
    {
     "name": "stdout",
     "output_type": "stream",
     "text": [
      "Exception! sum requires ndarray or scalar arguments, got <class 'list'> at position 0.\n"
     ]
    }
   ],
   "source": [
    "try:\n",
    "    print(jnp.sum([1.,2.,3.]))\n",
    "except Exception as e:\n",
    "    print(\"Exception! {}\".format(e))"
   ]
  },
  {
   "cell_type": "code",
   "execution_count": 32,
   "id": "3498f325",
   "metadata": {},
   "outputs": [
    {
     "name": "stdout",
     "output_type": "stream",
     "text": [
      "6.0\n"
     ]
    }
   ],
   "source": [
    "print(jnp.sum(jnp.array([1.,2.,3.])))"
   ]
  },
  {
   "cell_type": "markdown",
   "id": "f5166cae",
   "metadata": {},
   "source": [
    "#### 2. In-Place updates (substitution and operations)\n",
    "\n",
    "We are very used to change certain rows columns or even elements of a numpy array by manualy indicating their indexes in the following manner:"
   ]
  },
  {
   "cell_type": "code",
   "execution_count": 33,
   "id": "3c4e5e2f",
   "metadata": {},
   "outputs": [
    {
     "name": "stdout",
     "output_type": "stream",
     "text": [
      "Before:\n",
      "[[1. 1. 1. 1.]\n",
      " [1. 1. 1. 1.]\n",
      " [1. 1. 1. 1.]\n",
      " [1. 1. 1. 1.]]\n",
      "\n",
      "After:\n",
      "[[37.  1. 37.  1.]\n",
      " [37.  1. 37.  1.]\n",
      " [ 1.  8.  1.  8.]\n",
      " [ 1.  8.  1.  8.]]\n"
     ]
    }
   ],
   "source": [
    "matrix = np.ones((4,4))\n",
    "print('Before:')\n",
    "print(matrix)\n",
    "\n",
    "matrix[:2,::2] = 37 #Substitute the values of the elements for a number\n",
    "\n",
    "matrix[2:,1::2]+=7 #Add to the values of the elements a number\n",
    "\n",
    "print('\\nAfter:')\n",
    "print(matrix)"
   ]
  },
  {
   "cell_type": "markdown",
   "id": "412c45b4",
   "metadata": {},
   "source": [
    "This is still possible to do with JAX, however it follows a different syntaxis:"
   ]
  },
  {
   "cell_type": "code",
   "execution_count": 34,
   "id": "e7795eb0",
   "metadata": {},
   "outputs": [
    {
     "name": "stdout",
     "output_type": "stream",
     "text": [
      "Before:\n",
      "[[1. 1. 1. 1.]\n",
      " [1. 1. 1. 1.]\n",
      " [1. 1. 1. 1.]\n",
      " [1. 1. 1. 1.]]\n",
      "\n",
      "After:\n",
      "[[37.  1. 37.  1.]\n",
      " [37.  1. 37.  1.]\n",
      " [ 1.  8.  1.  8.]\n",
      " [ 1.  8.  1.  8.]]\n"
     ]
    }
   ],
   "source": [
    "matrix = jnp.ones((4,4))\n",
    "print('Before:')\n",
    "print(matrix)\n",
    "\n",
    "matrix = matrix.at[:2,::2].set(37.) #Substitute the values of the elements for a number\n",
    "\n",
    "matrix = matrix.at[2:,1::2].add(7.) #Add to the values of the elements a number\n",
    "\n",
    "print('\\nAfter:')\n",
    "print(matrix)"
   ]
  },
  {
   "cell_type": "markdown",
   "id": "6716388e",
   "metadata": {},
   "source": [
    "This In-Place updates can also be applied under vector propagation like in Numpy"
   ]
  },
  {
   "cell_type": "code",
   "execution_count": 8,
   "id": "5fedec4b",
   "metadata": {},
   "outputs": [
    {
     "name": "stdout",
     "output_type": "stream",
     "text": [
      "NumPy result:\n",
      " [[0. 1. 1. 1.]\n",
      " [1. 1. 1. 1.]\n",
      " [2. 1. 1. 1.]\n",
      " [3. 1. 1. 1.]]\n",
      "\n",
      "JAX result:\n",
      " [[0. 1. 1. 1.]\n",
      " [1. 1. 1. 1.]\n",
      " [2. 1. 1. 1.]\n",
      " [3. 1. 1. 1.]]\n"
     ]
    }
   ],
   "source": [
    "#In NumPy\n",
    "np_matrix = np.ones((4,4))\n",
    "np_matrix[:,0] = np.arange(4)\n",
    "print('NumPy result:\\n',np_matrix)\n",
    "\n",
    "#In JAX\n",
    "jnp_matrix = jnp.ones((4,4))\n",
    "jnp_matrix= jnp_matrix.at[:,0].set(jnp.arange(4))\n",
    "print('\\nJAX result:\\n',jnp_matrix)\n"
   ]
  },
  {
   "cell_type": "markdown",
   "id": "7b36786a",
   "metadata": {},
   "source": [
    "#### 3. Out of Bounds Index\n",
    "\n",
    "JAX also handles out of Bound indexing of arrays in a different manner to NumPy. Instead of raising an error JAX always returns something. The behaviour is however not well defined"
   ]
  },
  {
   "cell_type": "code",
   "execution_count": 9,
   "id": "5794ecd1",
   "metadata": {},
   "outputs": [
    {
     "name": "stdout",
     "output_type": "stream",
     "text": [
      "9\n"
     ]
    }
   ],
   "source": [
    "print(jnp.arange(10)[15]) #Index only defined up to 9"
   ]
  },
  {
   "cell_type": "markdown",
   "id": "55855264",
   "metadata": {},
   "source": [
    "#### 4. Memory overflow \n",
    "\n",
    "Another significant difference is how JAX handles unsafe type casts. when using astype() method. While NumPy has an assigned casting method, JAX may be backen dependent."
   ]
  },
  {
   "cell_type": "code",
   "execution_count": 10,
   "id": "c6af44b2",
   "metadata": {
    "scrolled": true
   },
   "outputs": [
    {
     "name": "stdout",
     "output_type": "stream",
     "text": [
      "NumPy:  [254 255   0   1]\n",
      "JAX:  [254 255 255 255]\n"
     ]
    }
   ],
   "source": [
    "print('NumPy: ',np.arange(254.0, 258.0).astype('uint8'))\n",
    "\n",
    "print('JAX: ',jnp.arange(254.0, 258.0).astype('uint8'))"
   ]
  },
  {
   "cell_type": "markdown",
   "id": "e8c6c8fb",
   "metadata": {},
   "source": [
    "## LAX\n",
    "---\n",
    "### A. What is it?"
   ]
  },
  {
   "cell_type": "markdown",
   "id": "d0dfa6c4",
   "metadata": {},
   "source": [
    "All those differences with NumPy and many restrictions that JAX poses come from the fact that jax.numpy is a high-level wrapper to a lower-level API, LAX. It is more powerful yet stricter than usual NumPy. This makes it very important to keep the variables' types in mind at all times when using it. "
   ]
  },
  {
   "cell_type": "code",
   "execution_count": 35,
   "id": "336860ab",
   "metadata": {},
   "outputs": [
    {
     "name": "stdout",
     "output_type": "stream",
     "text": [
      "Exception! lax.add requires arguments to have the same dtypes, got int32, float32. (Tip: jnp.add is a similar function that does automatic type promotion on inputs).\n"
     ]
    }
   ],
   "source": [
    "from jax import lax\n",
    "\n",
    "try:\n",
    "    print(lax.add(1,1.))\n",
    "except Exception as e:\n",
    "    print(\"Exception! {}\".format(e))"
   ]
  },
  {
   "cell_type": "markdown",
   "id": "50edede3",
   "metadata": {},
   "source": [
    "To operate, the API requires type promotion:"
   ]
  },
  {
   "cell_type": "code",
   "execution_count": 36,
   "id": "bde0316e",
   "metadata": {},
   "outputs": [
    {
     "name": "stdout",
     "output_type": "stream",
     "text": [
      "2.0\n"
     ]
    }
   ],
   "source": [
    "print(lax.add(jnp.float32(1),1.))"
   ]
  },
  {
   "cell_type": "markdown",
   "id": "8758d39f",
   "metadata": {},
   "source": [
    "LAX is used internally, most of the functionality can be used through jax.numpy without paying any kind of mind to type promotion. "
   ]
  },
  {
   "cell_type": "markdown",
   "id": "47cfee5c",
   "metadata": {},
   "source": [
    "### Just In Time (JIT) compilation\n",
    "---\n",
    "\n",
    "JAX includes Just In Time compilation, which enables sequences of operations to be ran together more efficiently. This is done by precompiling operations using XLA (Accelerated linear Algebra compiler). This however means the use of jit is restricted to functions in which array shapes are static and can fail when implementing certain operations."
   ]
  },
  {
   "cell_type": "code",
   "execution_count": 37,
   "id": "9efcf66f",
   "metadata": {
    "scrolled": true
   },
   "outputs": [
    {
     "name": "stdout",
     "output_type": "stream",
     "text": [
      "676 µs ± 110 µs per loop (mean ± std. dev. of 7 runs, 1,000 loops each)\n",
      "213 µs ± 36.2 µs per loop (mean ± std. dev. of 7 runs, 1,000 loops each)\n"
     ]
    }
   ],
   "source": [
    "from jax import jit\n",
    "\n",
    "def selu(x, alpha=1.67, lambda_=1.05):\n",
    "    return lambda_ * jnp.where(x > 0, x, alpha * jnp.exp(x) - alpha)\n",
    "jit_selu = jit(selu)\n",
    "x = jnp.arange(1000000)\n",
    "%timeit selu(x)\n",
    "%timeit jit_selu(x)"
   ]
  },
  {
   "cell_type": "markdown",
   "id": "155f7990",
   "metadata": {},
   "source": [
    "We can observe an increment on speed when jitted, (at time of writting 10 times faster). However in the following examples we will observe where the limits of jit come apparent. "
   ]
  },
  {
   "cell_type": "code",
   "execution_count": 38,
   "id": "9b036168",
   "metadata": {},
   "outputs": [
    {
     "name": "stdout",
     "output_type": "stream",
     "text": [
      "Exception! Abstract tracer value encountered where concrete value is expected: Traced<ShapedArray(bool[], weak_type=True)>with<DynamicJaxprTrace(level=0/1)>\n",
      "The problem arose with the `bool` function. \n",
      "The error occurred while tracing the function f at /tmp/ipykernel_418621/3016708238.py:3 for jit. This concrete value was not available in Python because it depends on the value of the argument 'x'.\n",
      "\n",
      "See https://jax.readthedocs.io/en/latest/errors.html#jax.errors.ConcretizationTypeError\n"
     ]
    }
   ],
   "source": [
    "# Condition on value of x.\n",
    "\n",
    "def f(x):\n",
    "    if x > 0:\n",
    "        return x\n",
    "    else:\n",
    "        return 2 * x\n",
    "    \n",
    "f_jit = jit(f)\n",
    "try:\n",
    "    f_jit(10)  # Should raise an error. \n",
    "except Exception as e:\n",
    "    print(\"Exception! {}\".format(e))"
   ]
  },
  {
   "cell_type": "markdown",
   "id": "ab42aaf5",
   "metadata": {},
   "source": [
    "The error comes from the condition x>0, we can however circumnavigate this by not making use of Booleans. "
   ]
  },
  {
   "cell_type": "code",
   "execution_count": 39,
   "id": "64bed9e3",
   "metadata": {},
   "outputs": [
    {
     "name": "stdout",
     "output_type": "stream",
     "text": [
      "10\n"
     ]
    }
   ],
   "source": [
    "def g(x):\n",
    "    return jnp.where(x>0,x,2*x)\n",
    "g_jit = jit(g)\n",
    "try:\n",
    "    print(g_jit(jnp.array(10)))  # Should not raise an error. \n",
    "except Exception as e:\n",
    "    print(\"Exception! {}\".format(e))"
   ]
  },
  {
   "cell_type": "markdown",
   "id": "c6c4648a",
   "metadata": {},
   "source": [
    "For the following function, however, the approach beforehan is not sufficient. As explained in the beggining this is because the shape of a function must remain static."
   ]
  },
  {
   "cell_type": "code",
   "execution_count": 40,
   "id": "f55bee01",
   "metadata": {},
   "outputs": [
    {
     "name": "stdout",
     "output_type": "stream",
     "text": [
      "Exception! Array boolean indices must be concrete; got ShapedArray(bool[10])\n",
      "\n",
      "See https://jax.readthedocs.io/en/latest/errors.html#jax.errors.NonConcreteBooleanIndexError\n"
     ]
    }
   ],
   "source": [
    "def get_negatives(x):\n",
    "    return x[x < 0]\n",
    "\n",
    "x = jnp.array(np.random.randn(10))\n",
    "\n",
    "get_negatives(x)\n",
    "try:\n",
    "    jit(get_negatives)(x)\n",
    "except Exception as e:\n",
    "    print(\"Exception! {}\".format(e))"
   ]
  },
  {
   "cell_type": "markdown",
   "id": "c018021d",
   "metadata": {},
   "source": [
    "### Vmap \\& Autodifferentiation\n",
    "---\n",
    "\n",
    "JAX also includes vmap or vectorizing map, which allows the application of a function along array axes. It does so internally to further accelerate computation, when combined with JIT it can achieve similar performance to manually program it."
   ]
  },
  {
   "cell_type": "code",
   "execution_count": 41,
   "id": "9335816b",
   "metadata": {},
   "outputs": [
    {
     "name": "stdout",
     "output_type": "stream",
     "text": [
      "Naively batched\n",
      "2.05 ms ± 288 µs per loop (mean ± std. dev. of 7 runs, 1 loop each)\n",
      "Vmap batched\n",
      "581 µs ± 5.23 µs per loop (mean ± std. dev. of 7 runs, 1,000 loops each)\n"
     ]
    }
   ],
   "source": [
    "from jax import grad,vmap,random\n",
    "import matplotlib.pyplot as plt\n",
    "\n",
    "key = random.PRNGKey(0)\n",
    "mat = random.normal(key, (150, 300))\n",
    "batched_x = random.normal(key, (1000, 300))\n",
    "\n",
    "@jit\n",
    "def apply_matrix(v):\n",
    "    return jnp.dot(mat, v)\n",
    "@jit\n",
    "def naively_batched_apply_matrix(v_batched):\n",
    "    return jnp.stack([apply_matrix(v) for v in v_batched])\n",
    "\n",
    "vectorized_batched = vmap(apply_matrix)\n",
    "print('Naively batched')\n",
    "%timeit naively_batched_apply_matrix(batched_x)\n",
    "\n",
    "\n",
    "print('Vmap batched')\n",
    "%timeit vectorized_batched(batched_x)"
   ]
  },
  {
   "cell_type": "markdown",
   "id": "8872fd98",
   "metadata": {},
   "source": [
    "JAX includes a general automatic differentiation system. From a basic gradient function to functions to compute both the Hessian and Jacobian matrices."
   ]
  },
  {
   "cell_type": "code",
   "execution_count": 42,
   "id": "2e857004",
   "metadata": {},
   "outputs": [
    {
     "data": {
      "text/plain": [
       "<matplotlib.legend.Legend at 0x7f45e41464c0>"
      ]
     },
     "execution_count": 42,
     "metadata": {},
     "output_type": "execute_result"
    },
    {
     "data": {
      "image/png": "[encoded data removed]",
      "text/plain": [
       "<Figure size 640x480 with 1 Axes>"
      ]
     },
     "metadata": {},
     "output_type": "display_data"
    }
   ],
   "source": [
    "def sigmoid(x):\n",
    "    return 0.5 * (jnp.tanh(x / 2) + 1)\n",
    "\n",
    "x = jnp.arange(-5,5,0.1)\n",
    "y = sigmoid(x)\n",
    "y2 = vmap(grad(sigmoid))(x)\n",
    "plt.plot(x,y,label = 'sigmoid')\n",
    "plt.plot(x,y2,label = 'JAX gradient')\n",
    "plt.legend()"
   ]
  },
  {
   "cell_type": "markdown",
   "id": "f83cc1a0",
   "metadata": {},
   "source": [
    "NumPy also allows for the computation of the gradient of the result of the function. This is not automatic however, and requires of the step of the function. JAX.gradient computes the gradient of the function per se."
   ]
  },
  {
   "cell_type": "code",
   "execution_count": 19,
   "id": "8c484205",
   "metadata": {},
   "outputs": [
    {
     "data": {
      "text/plain": [
       "<matplotlib.legend.Legend at 0x7f45e449d6d0>"
      ]
     },
     "execution_count": 19,
     "metadata": {},
     "output_type": "execute_result"
    },
    {
     "data": {
      "image/png": "[encoded data removed]",
      "text/plain": [
       "<Figure size 640x480 with 1 Axes>"
      ]
     },
     "metadata": {},
     "output_type": "display_data"
    }
   ],
   "source": [
    "x = np.arange(-5,5,0.1)\n",
    "y = sigmoid(x)\n",
    "y2 = np.gradient(sigmoid(x),0.1)\n",
    "y3 = np.gradient(sigmoid(x))\n",
    "plt.plot(x,y,label = 'sigmoid')\n",
    "plt.plot(x,y2,label = 'NumPy derivative including dx')\n",
    "plt.plot(x,y3,label = 'NumPy derivative not including dx')\n",
    "plt.legend()"
   ]
  },
  {
   "cell_type": "markdown",
   "id": "4e2043f4",
   "metadata": {},
   "source": [
    "# Linear Regression Training Example\n",
    "\n",
    "---"
   ]
  },
  {
   "cell_type": "code",
   "execution_count": 43,
   "id": "400720f6",
   "metadata": {},
   "outputs": [
    {
     "name": "stdout",
     "output_type": "stream",
     "text": [
      "4.008714199066162 s\n",
      "w: 3.00, b: -1.01\n"
     ]
    },
    {
     "data": {
      "image/png": "[encoded data removed]",
      "text/plain": [
       "<Figure size 640x480 with 1 Axes>"
      ]
     },
     "metadata": {},
     "output_type": "display_data"
    }
   ],
   "source": [
    "import time\n",
    "\n",
    "xs = np.random.normal(size=(100,))\n",
    "noise = np.random.normal(scale=0.1, size=(100,))\n",
    "ys = xs * 3 - 1 + noise\n",
    "\n",
    "def model(theta, x):\n",
    "    \"\"\"Computes wx + b on a batch of input x.\"\"\"\n",
    "    w, b = theta\n",
    "    return w * x + b\n",
    "\n",
    "def loss_fn(theta, x, y):\n",
    "    prediction = model(theta, x)\n",
    "    return jnp.mean((prediction-y)**2)\n",
    "\n",
    "def update(theta, x, y, lr=0.1):\n",
    "    return theta - lr * grad(loss_fn)(theta, x, y)\n",
    "\n",
    "theta = jnp.array([1., 1.])\n",
    "start_time = time.time()\n",
    "for _ in range(1000):\n",
    "    theta = update(theta, xs, ys)\n",
    "print(time.time()-start_time,'s')\n",
    "plt.scatter(xs, ys)\n",
    "plt.plot(xs, model(theta, xs))\n",
    "\n",
    "w, b = theta\n",
    "print(f\"w: {w:<.2f}, b: {b:<.2f}\")"
   ]
  },
  {
   "cell_type": "code",
   "execution_count": 44,
   "id": "6091fbd2",
   "metadata": {},
   "outputs": [
    {
     "name": "stdout",
     "output_type": "stream",
     "text": [
      "0.05715441703796387 s\n",
      "w: 2.99, b: -1.00\n"
     ]
    },
    {
     "data": {
      "image/png": "[encoded data removed]",
      "text/plain": [
       "<Figure size 640x480 with 1 Axes>"
      ]
     },
     "metadata": {},
     "output_type": "display_data"
    }
   ],
   "source": [
    "import time\n",
    "xs = np.random.normal(size=(100,))\n",
    "noise = np.random.normal(scale=0.1, size=(100,))\n",
    "ys = xs * 3 - 1 + noise\n",
    "\n",
    "\n",
    "def model(theta, x):\n",
    "    \"\"\"Computes wx + b on a batch of input x.\"\"\"\n",
    "    w, b = theta\n",
    "    return w * x + b\n",
    "\n",
    "def loss_fn(theta, x, y):\n",
    "    prediction = model(theta, x)\n",
    "    return jnp.mean((prediction-y)**2)\n",
    "@jit\n",
    "def update(theta, x, y, lr=0.1):\n",
    "    return theta - lr * grad(loss_fn)(theta, x, y)\n",
    "\n",
    "theta = jnp.array([1., 1.])\n",
    "start_time = time.time()\n",
    "for _ in range(1000):\n",
    "    theta = update(theta, xs, ys)\n",
    "print(time.time()-start_time,'s')\n",
    "plt.scatter(xs, ys)\n",
    "plt.plot(xs, model(theta, xs))\n",
    "\n",
    "w, b = theta\n",
    "print(f\"w: {w:<.2f}, b: {b:<.2f}\")"
   ]
  },
  {
   "cell_type": "markdown",
   "id": "a42a7680",
   "metadata": {},
   "source": [
    "# Pytrees\n",
    "\n",
    "---\n",
    "\n",
    "A useful tool from jax are Pytrees, they are containers which hold leafs. These leafs can have any type, from numbers, string to other containers. They are often used in machine learning storing:\n",
    "\n",
    "- Model Parameters\n",
    "- Dataset entries\n",
    "- RL agent observations\n",
    "\n"
   ]
  },
  {
   "cell_type": "code",
   "execution_count": 22,
   "id": "d1ddfb01",
   "metadata": {},
   "outputs": [
    {
     "name": "stdout",
     "output_type": "stream",
     "text": [
      "[1, 2, 3]                                     has 3 leaves: [1, 2, 3]\n",
      "{'hello': (1, 2), 'goodbye': (1, 3.2)}        has 4 leaves: [1, 3.2, 1, 2]\n",
      "DeviceArray([1, 2, 3, 4], dtype=int32)        has 1 leaves: [DeviceArray([1, 2, 3, 4], dtype=int32)]\n"
     ]
    }
   ],
   "source": [
    "import jax\n",
    "list_of_lists = [\n",
    "    [1, 2, 3],\n",
    "   {'hello': (1, 2),'goodbye':(1,3.2)},\n",
    "    jnp.array([1, 2, 3, 4])\n",
    "]\n",
    "\n",
    "\n",
    "for pytree in list_of_lists:\n",
    "    leaves = jax.tree_util.tree_leaves(pytree)\n",
    "    print(f\"{repr(pytree):<45} has {len(leaves)} leaves: {leaves}\")"
   ]
  },
  {
   "cell_type": "code",
   "execution_count": 23,
   "id": "6e30257f",
   "metadata": {},
   "outputs": [
    {
     "name": "stdout",
     "output_type": "stream",
     "text": [
      "Operation with a single list of trees\n",
      " [[2, 4, 6], {'goodbye': (2, 6.4), 'hello': (2, 4)}, DeviceArray([2, 4, 6, 8], dtype=int32)]\n",
      "Operation with a two lists of trees\n",
      " [[2, 4, 6], {'goodbye': (2, 6.400000000000001), 'hello': (2, 4)}, DeviceArray([2, 4, 6, 8], dtype=int32)]\n"
     ]
    }
   ],
   "source": [
    "print('Operation with a single list of trees\\n',jax.tree_map(lambda x: x*2, list_of_lists))\n",
    "\n",
    "scnd_list = list_of_lists.copy()\n",
    "\n",
    "\n",
    "print('Operation with a two lists of trees\\n',jax.tree_map(lambda x,y: -x+3*y, list_of_lists,scnd_list))"
   ]
  },
  {
   "cell_type": "markdown",
   "id": "1999df94",
   "metadata": {},
   "source": [
    "We can use pytrees to store and handle ML parameters"
   ]
  },
  {
   "cell_type": "code",
   "execution_count": 24,
   "id": "a5aa1e70",
   "metadata": {
    "scrolled": false
   },
   "outputs": [
    {
     "name": "stdout",
     "output_type": "stream",
     "text": [
      "15.809356927871704 s\n"
     ]
    },
    {
     "data": {
      "image/png": "[encoded data removed]",
      "text/plain": [
       "<Figure size 640x480 with 1 Axes>"
      ]
     },
     "metadata": {},
     "output_type": "display_data"
    }
   ],
   "source": [
    "import jax\n",
    "\n",
    "def init_mlp_params(layer_widths):\n",
    "    params = []\n",
    "    for n_in, n_out in zip(layer_widths[:-1], layer_widths[1:]):\n",
    "        params.append(\n",
    "              dict(weights=np.random.normal(size=(n_in, n_out)) * np.sqrt(2/n_in),\n",
    "              biases=np.ones(shape=(n_out,))\n",
    "              )\n",
    "            )\n",
    "    return params\n",
    "\n",
    "params = init_mlp_params([1, 128, 128, 1]) #Number of nodes each layer\n",
    "\n",
    "jax.tree_map(lambda x: x.shape, params)\n",
    "\n",
    "def forward(params, x):\n",
    "    *hidden, last = params\n",
    "    for layer in hidden:\n",
    "        x = jax.nn.relu(x @ layer['weights'] + layer['biases'])\n",
    "    return x @ last['weights'] + last['biases']\n",
    "\n",
    "def loss_fn(params, x, y):\n",
    "    return jnp.mean((forward(params, x) - y) ** 2)\n",
    "\n",
    "LEARNING_RATE = 0.0001\n",
    "\n",
    "@jit\n",
    "def update(params, x, y):\n",
    "    grads = jax.grad(loss_fn)(params, x, y)\n",
    "    # Note that `grads` is a pytree with the same structure as `params`.\n",
    "    # `jax.grad` is one of the many JAX functions that has\n",
    "    # built-in support for pytrees.\n",
    "\n",
    "    # This is handy, because we can apply the SGD update using tree utils:\n",
    "    return jax.tree_map(\n",
    "        lambda p, g: p - LEARNING_RATE * g, params, grads\n",
    "    )\n",
    "\n",
    "xs = np.random.normal(size=(128, 1))*3\n",
    "ys = jnp.cos(xs)*xs\n",
    "\n",
    "start_time = time.time()\n",
    "for i in range(100000):\n",
    "    params = update(params, xs, ys)\n",
    "print(time.time()-start_time,'s')\n",
    "plt.scatter(xs, ys)\n",
    "plt.scatter(xs, forward(params, xs), label='Model prediction')\n",
    "plt.legend();"
   ]
  },
  {
   "cell_type": "markdown",
   "id": "e7f62cb8",
   "metadata": {},
   "source": [
    "# Parellel computing\n",
    "\n",
    "---"
   ]
  },
  {
   "cell_type": "code",
   "execution_count": 12,
   "id": "26556f7e",
   "metadata": {},
   "outputs": [
    {
     "ename": "NameError",
     "evalue": "name 'random' is not defined",
     "output_type": "error",
     "traceback": [
      "\u001b[0;31m---------------------------------------------------------------------------\u001b[0m",
      "\u001b[0;31mNameError\u001b[0m                                 Traceback (most recent call last)",
      "Cell \u001b[0;32mIn [12], line 1\u001b[0m\n\u001b[0;32m----> 1\u001b[0m key \u001b[38;5;241m=\u001b[39m random\u001b[38;5;241m.\u001b[39mPRNGKey(\u001b[38;5;241m0\u001b[39m)\n\u001b[1;32m      2\u001b[0m mat \u001b[38;5;241m=\u001b[39m random\u001b[38;5;241m.\u001b[39mnormal(key, (\u001b[38;5;241m150\u001b[39m, \u001b[38;5;241m300\u001b[39m))\n\u001b[1;32m      3\u001b[0m x \u001b[38;5;241m=\u001b[39m random\u001b[38;5;241m.\u001b[39mnormal(key, (\u001b[38;5;241m100000\u001b[39m, \u001b[38;5;241m300\u001b[39m))\n",
      "\u001b[0;31mNameError\u001b[0m: name 'random' is not defined"
     ]
    }
   ],
   "source": [
    "key = random.PRNGKey(0)\n",
    "mat = random.normal(key, (150, 300))\n",
    "x = random.normal(key, (100000, 300))\n",
    "\n",
    "@jit\n",
    "def apply_matrix(v):\n",
    "    return jnp.dot(mat, v)\n",
    "\n",
    "vectorized_batched = vmap(apply_matrix)\n",
    "\n",
    "\n",
    "\n",
    "print('Vmap batched')\n",
    "%timeit vectorized_batched(batched_x)"
   ]
  },
  {
   "cell_type": "markdown",
   "id": "6ad8a265",
   "metadata": {},
   "source": [
    "# MNIST prediction using JAX\n",
    "\n",
    "---\n"
   ]
  },
  {
   "cell_type": "code",
   "execution_count": 27,
   "id": "cb9d2ad6",
   "metadata": {},
   "outputs": [
    {
     "name": "stdout",
     "output_type": "stream",
     "text": [
      "Epoch 1 loss = 1182.6591796875\n",
      "Epoch 2 loss = 477.5924377441406\n",
      "Epoch 3 loss = 125.42098999023438\n",
      "Epoch 4 loss = 53.53689193725586\n",
      "Epoch 5 loss = 29.664846420288086\n",
      "Epoch 6 loss = 18.94552993774414\n",
      "Epoch 7 loss = 13.274672508239746\n",
      "Epoch 8 loss = 9.937272071838379\n",
      "Epoch 9 loss = 7.79520845413208\n",
      "Epoch 10 loss = 6.3302741050720215\n"
     ]
    },
    {
     "data": {
      "text/plain": [
       "'ckpts/checkpoint_2'"
      ]
     },
     "execution_count": 27,
     "metadata": {},
     "output_type": "execute_result"
    }
   ],
   "source": [
    "import jax\n",
    "import jax.numpy as jnp               # JAX NumPy\n",
    "\n",
    "from flax import linen as nn          # The Linen API\n",
    "from flax.training import train_state, checkpoints\n",
    "\n",
    "import numpy as np                    # Ordinary NumPy\n",
    "import tensorflow_datasets as tfds    # TFDS for MNIST\n",
    "import optax\n",
    "\n",
    "def get_datasets():\n",
    "    ds_builder = tfds.builder('mnist')\n",
    "    ds_builder.download_and_prepare()\n",
    "    # Split into training/test sets\n",
    "    train_ds = tfds.as_numpy(ds_builder.as_dataset(split='train', batch_size=-1))\n",
    "    test_ds = tfds.as_numpy(ds_builder.as_dataset(split='test', batch_size=-1))\n",
    "    # Convert to floating-points\n",
    "    train_ds['image'] = jnp.float32(train_ds['image']) / 255.0\n",
    "    test_ds['image'] = jnp.float32(test_ds['image']) / 255.0\n",
    "    return train_ds, test_ds\n",
    "\n",
    "@jax.jit\n",
    "def loss_fn(params):\n",
    "    logits = model.apply({'params': params}, batch['image'])\n",
    "    loss = jnp.mean(optax.softmax_cross_entropy(\n",
    "        logits=logits,\n",
    "        labels=jax.nn.one_hot(batch['label'], num_classes=10)))\n",
    "    return loss, logits\n",
    "\n",
    "\n",
    "class CNN(nn.Module):\n",
    "    @nn.compact\n",
    "    # Provide a constructor to register a new parameter \n",
    "    # and return its initial value\n",
    "    def __call__(self, x):\n",
    "        x = nn.Conv(features=32, kernel_size=(3, 3))(x)\n",
    "        x = nn.relu(x)\n",
    "        x = nn.avg_pool(x, window_shape=(2, 2), strides=(2, 2))\n",
    "        x = nn.Conv(features=64, kernel_size=(3, 3))(x)\n",
    "        x = nn.relu(x)\n",
    "        x = nn.avg_pool(x, window_shape=(2, 2), strides=(2, 2))\n",
    "        x = x.reshape((x.shape[0], -1)) # Flatten\n",
    "        x = nn.Dense(features=256)(x)\n",
    "        x = nn.relu(x)\n",
    "        x = nn.Dense(features=10)(x)    # There are 10 classes in MNIST\n",
    "        return x\n",
    "\n",
    "training_ds ,test_ds = get_datasets()\n",
    "\n",
    "rnd = jax.random.PRNGKey(0)\n",
    "rnd,subkey = jax.random.split(rnd)\n",
    "\n",
    "model = CNN()\n",
    "params = model.init(subkey,jnp.ones([1,28,28,1]))['params']\n",
    "tx = optax.sgd(learning_rate=0.001,momentum=0.5)\n",
    "state = train_state.TrainState.create(apply_fn=model.apply,params=params,tx=tx)\n",
    "num_epochs = 10\n",
    "batch_size = 100\n",
    "\n",
    "for epoch in range(1,num_epochs+1):\n",
    "    # Use a separate PRNG key to permute image data during shuffling\n",
    "    rnd, input_rng = jax.random.split(rnd)\n",
    "    #Let's now train it\n",
    "    train_ds_size = len(training_ds['image'])\n",
    "    steps_per_epoch = train_ds_size // batch_size\n",
    "\n",
    "    perms = jax.random.permutation(rnd, len(training_ds['image']))\n",
    "    perms = perms[:steps_per_epoch * batch_size]  # Skip an incomplete batch\n",
    "    perms = perms.reshape((steps_per_epoch, batch_size))\n",
    "\n",
    "    batch_metrics = []\n",
    "    loss = 0\n",
    "    for perm in perms:\n",
    "        batch = {k: v[perm, ...] for k, v in training_ds.items()}\n",
    "        grad_fn = jax.value_and_grad(loss_fn, has_aux=True)\n",
    "        (loss_i, logits), grads = grad_fn(state.params)\n",
    "        state = state.apply_gradients(grads=grads)\n",
    "        loss +=loss_i\n",
    "    print('Epoch {} loss = {}'.format(epoch,loss))\n",
    "\n",
    "CKPT_DIR = 'ckpts'\n",
    "checkpoints.save_checkpoint(ckpt_dir=CKPT_DIR, target=state, step=2)"
   ]
  },
  {
   "cell_type": "markdown",
   "id": "aec62827",
   "metadata": {},
   "source": [
    "To test the model, we can first load the model"
   ]
  },
  {
   "cell_type": "code",
   "execution_count": null,
   "id": "e05ce082",
   "metadata": {},
   "outputs": [],
   "source": [
    "import jax\n",
    "import jax.numpy as jnp               # JAX NumPy\n",
    "import matplotlib.pyplot as plt\n",
    "\n",
    "from flax import linen as nn          # The Linen API\n",
    "from flax.training import train_state,checkpoints\n",
    "from flax.core import freeze, unfreeze\n",
    "\n",
    "import numpy as np                    # Ordinary NumPy\n",
    "import tensorflow_datasets as tfds    # TFDS for MNIST\n",
    "import optax\n",
    "\n",
    "\n",
    "class CNN(nn.Module):\n",
    "  @nn.compact\n",
    "  # Provide a constructor to register a new parameter\n",
    "  # and return its initial value\n",
    "  def __call__(self, x):\n",
    "    x = nn.Conv(features=32, kernel_size=(3, 3))(x)\n",
    "    x = nn.relu(x)\n",
    "    x = nn.avg_pool(x, window_shape=(2, 2), strides=(2, 2))\n",
    "    x = nn.Conv(features=64, kernel_size=(3, 3))(x)\n",
    "    x = nn.relu(x)\n",
    "    x = nn.avg_pool(x, window_shape=(2, 2), strides=(2, 2))\n",
    "    x = x.reshape((x.shape[0], -1))  # Flatten\n",
    "    x = nn.Dense(features=256)(x)\n",
    "    x = nn.relu(x)\n",
    "    x = nn.Dense(features=10)(x)  # There are 10 classes in MNIST\n",
    "    return x\n",
    "\n",
    "def get_datasets():\n",
    "  ds_builder = tfds.builder('mnist')\n",
    "  ds_builder.download_and_prepare()\n",
    "  # Split into training/test sets\n",
    "  train_ds = tfds.as_numpy(ds_builder.as_dataset(split='train', batch_size=-1))\n",
    "  test_ds = tfds.as_numpy(ds_builder.as_dataset(split='test', batch_size=-1))\n",
    "  # Convert to floating-points\n",
    "  train_ds['image'] = jnp.float32(train_ds['image']) / 255.0\n",
    "  test_ds['image'] = jnp.float32(test_ds['image']) / 255.0\n",
    "  return train_ds, test_ds\n",
    "\n",
    "_ ,test_ds = get_datasets()\n",
    "\n",
    "print(np.shape(test_ds['image']))\n",
    "\n",
    "CKPT_DIR = 'ckpts'\n",
    "model = CNN()\n",
    "rnd,subkey = jax.random.split(jax.random.PRNGKey(0))\n",
    "params = model.init(subkey,jnp.ones([1,28,28,1]))['params']\n",
    "params = unfreeze(params)\n",
    "params = checkpoints.restore_checkpoint(ckpt_dir=CKPT_DIR,target = None)['params']\n",
    "params = freeze(params)\n",
    "\n",
    "tx = optax.sgd(learning_rate=0.001,momentum=0.5)\n",
    "state = train_state.TrainState.create(apply_fn=model.apply,params=params,tx=tx)\n",
    "state = checkpoints.restore_checkpoint(ckpt_dir=CKPT_DIR,target = state)\n",
    "im = jnp.array([test_ds['image'][np.random.randint(0,10000)]])\n",
    "\n",
    "pred = np.argmax(model.apply({'params': params},im)[0])\n",
    "plt.figure(str(pred))\n",
    "plt.title(str(pred))\n",
    "plt.imshow(im[0])\n",
    "plt.show()\n"
   ]
  },
  {
   "cell_type": "code",
   "execution_count": 11,
   "id": "d65ea492",
   "metadata": {},
   "outputs": [
    {
     "name": "stdout",
     "output_type": "stream",
     "text": [
      "<class 'numpy.ndarray'>\n",
      "<class 'jaxlib.xla_extension.DeviceArray'>\n",
      "Simple\n"
     ]
    },
    {
     "ename": "TypeError",
     "evalue": "Incompatible shapes for dot: got (150, 300) and (100000, 300).",
     "output_type": "error",
     "traceback": [
      "\u001b[0;31m---------------------------------------------------------------------------\u001b[0m",
      "\u001b[0;31mTypeError\u001b[0m                                 Traceback (most recent call last)",
      "Cell \u001b[0;32mIn [11], line 39\u001b[0m\n\u001b[1;32m     36\u001b[0m jit_vectorized_batched \u001b[38;5;241m=\u001b[39m jit(vectorized_batched)\n\u001b[1;32m     38\u001b[0m \u001b[38;5;28mprint\u001b[39m(\u001b[38;5;124m'\u001b[39m\u001b[38;5;124mSimple\u001b[39m\u001b[38;5;124m'\u001b[39m)\n\u001b[0;32m---> 39\u001b[0m get_ipython()\u001b[38;5;241m.\u001b[39mrun_line_magic(\u001b[38;5;124m'\u001b[39m\u001b[38;5;124mtimeit\u001b[39m\u001b[38;5;124m'\u001b[39m, \u001b[38;5;124m'\u001b[39m\u001b[38;5;124mapply_matrix(x)\u001b[39m\u001b[38;5;124m'\u001b[39m)\n\u001b[1;32m     40\u001b[0m \u001b[38;5;28mprint\u001b[39m(\u001b[38;5;124m'\u001b[39m\u001b[38;5;124mVmap batched\u001b[39m\u001b[38;5;124m'\u001b[39m)\n\u001b[1;32m     41\u001b[0m get_ipython()\u001b[38;5;241m.\u001b[39mrun_line_magic(\u001b[38;5;124m'\u001b[39m\u001b[38;5;124mtimeit\u001b[39m\u001b[38;5;124m'\u001b[39m, \u001b[38;5;124m'\u001b[39m\u001b[38;5;124mvectorized_batched(x)\u001b[39m\u001b[38;5;124m'\u001b[39m)\n",
      "File \u001b[0;32m~/PycharmProjects/jax_test/JAX_jupyter/mynotebookenv/lib/python3.9/site-packages/IPython/core/interactiveshell.py:2309\u001b[0m, in \u001b[0;36mInteractiveShell.run_line_magic\u001b[0;34m(self, magic_name, line, _stack_depth)\u001b[0m\n\u001b[1;32m   2307\u001b[0m     kwargs[\u001b[38;5;124m'\u001b[39m\u001b[38;5;124mlocal_ns\u001b[39m\u001b[38;5;124m'\u001b[39m] \u001b[38;5;241m=\u001b[39m \u001b[38;5;28mself\u001b[39m\u001b[38;5;241m.\u001b[39mget_local_scope(stack_depth)\n\u001b[1;32m   2308\u001b[0m \u001b[38;5;28;01mwith\u001b[39;00m \u001b[38;5;28mself\u001b[39m\u001b[38;5;241m.\u001b[39mbuiltin_trap:\n\u001b[0;32m-> 2309\u001b[0m     result \u001b[38;5;241m=\u001b[39m \u001b[43mfn\u001b[49m\u001b[43m(\u001b[49m\u001b[38;5;241;43m*\u001b[39;49m\u001b[43margs\u001b[49m\u001b[43m,\u001b[49m\u001b[43m \u001b[49m\u001b[38;5;241;43m*\u001b[39;49m\u001b[38;5;241;43m*\u001b[39;49m\u001b[43mkwargs\u001b[49m\u001b[43m)\u001b[49m\n\u001b[1;32m   2310\u001b[0m \u001b[38;5;28;01mreturn\u001b[39;00m result\n",
      "File \u001b[0;32m~/PycharmProjects/jax_test/JAX_jupyter/mynotebookenv/lib/python3.9/site-packages/IPython/core/magics/execution.py:1162\u001b[0m, in \u001b[0;36mExecutionMagics.timeit\u001b[0;34m(self, line, cell, local_ns)\u001b[0m\n\u001b[1;32m   1160\u001b[0m \u001b[38;5;28;01mfor\u001b[39;00m index \u001b[38;5;129;01min\u001b[39;00m \u001b[38;5;28mrange\u001b[39m(\u001b[38;5;241m0\u001b[39m, \u001b[38;5;241m10\u001b[39m):\n\u001b[1;32m   1161\u001b[0m     number \u001b[38;5;241m=\u001b[39m \u001b[38;5;241m10\u001b[39m \u001b[38;5;241m*\u001b[39m\u001b[38;5;241m*\u001b[39m index\n\u001b[0;32m-> 1162\u001b[0m     time_number \u001b[38;5;241m=\u001b[39m \u001b[43mtimer\u001b[49m\u001b[38;5;241;43m.\u001b[39;49m\u001b[43mtimeit\u001b[49m\u001b[43m(\u001b[49m\u001b[43mnumber\u001b[49m\u001b[43m)\u001b[49m\n\u001b[1;32m   1163\u001b[0m     \u001b[38;5;28;01mif\u001b[39;00m time_number \u001b[38;5;241m>\u001b[39m\u001b[38;5;241m=\u001b[39m \u001b[38;5;241m0.2\u001b[39m:\n\u001b[1;32m   1164\u001b[0m         \u001b[38;5;28;01mbreak\u001b[39;00m\n",
      "File \u001b[0;32m~/PycharmProjects/jax_test/JAX_jupyter/mynotebookenv/lib/python3.9/site-packages/IPython/core/magics/execution.py:156\u001b[0m, in \u001b[0;36mTimer.timeit\u001b[0;34m(self, number)\u001b[0m\n\u001b[1;32m    154\u001b[0m gc\u001b[38;5;241m.\u001b[39mdisable()\n\u001b[1;32m    155\u001b[0m \u001b[38;5;28;01mtry\u001b[39;00m:\n\u001b[0;32m--> 156\u001b[0m     timing \u001b[38;5;241m=\u001b[39m \u001b[38;5;28;43mself\u001b[39;49m\u001b[38;5;241;43m.\u001b[39;49m\u001b[43minner\u001b[49m\u001b[43m(\u001b[49m\u001b[43mit\u001b[49m\u001b[43m,\u001b[49m\u001b[43m \u001b[49m\u001b[38;5;28;43mself\u001b[39;49m\u001b[38;5;241;43m.\u001b[39;49m\u001b[43mtimer\u001b[49m\u001b[43m)\u001b[49m\n\u001b[1;32m    157\u001b[0m \u001b[38;5;28;01mfinally\u001b[39;00m:\n\u001b[1;32m    158\u001b[0m     \u001b[38;5;28;01mif\u001b[39;00m gcold:\n",
      "File \u001b[0;32m<magic-timeit>:1\u001b[0m, in \u001b[0;36minner\u001b[0;34m(_it, _timer)\u001b[0m\n",
      "Cell \u001b[0;32mIn [11], line 27\u001b[0m, in \u001b[0;36mapply_matrix\u001b[0;34m(v)\u001b[0m\n\u001b[1;32m     26\u001b[0m \u001b[38;5;28;01mdef\u001b[39;00m \u001b[38;5;21mapply_matrix\u001b[39m(v):\n\u001b[0;32m---> 27\u001b[0m     \u001b[38;5;28;01mreturn\u001b[39;00m \u001b[43mjnp\u001b[49m\u001b[38;5;241;43m.\u001b[39;49m\u001b[43mdot\u001b[49m\u001b[43m(\u001b[49m\u001b[43mmat\u001b[49m\u001b[43m,\u001b[49m\u001b[43m \u001b[49m\u001b[43mv\u001b[49m\u001b[43m)\u001b[49m\n",
      "    \u001b[0;31m[... skipping hidden 14 frame]\u001b[0m\n",
      "File \u001b[0;32m~/PycharmProjects/jax_test/JAX_jupyter/mynotebookenv/lib/python3.9/site-packages/jax/_src/numpy/lax_numpy.py:2771\u001b[0m, in \u001b[0;36mdot\u001b[0;34m(a, b, precision)\u001b[0m\n\u001b[1;32m   2769\u001b[0m   \u001b[38;5;28;01mreturn\u001b[39;00m lax\u001b[38;5;241m.\u001b[39mmul(a, b)\n\u001b[1;32m   2770\u001b[0m \u001b[38;5;28;01mif\u001b[39;00m _max(a_ndim, b_ndim) \u001b[38;5;241m<\u001b[39m\u001b[38;5;241m=\u001b[39m \u001b[38;5;241m2\u001b[39m:\n\u001b[0;32m-> 2771\u001b[0m   \u001b[38;5;28;01mreturn\u001b[39;00m \u001b[43mlax\u001b[49m\u001b[38;5;241;43m.\u001b[39;49m\u001b[43mdot\u001b[49m\u001b[43m(\u001b[49m\u001b[43ma\u001b[49m\u001b[43m,\u001b[49m\u001b[43m \u001b[49m\u001b[43mb\u001b[49m\u001b[43m,\u001b[49m\u001b[43m \u001b[49m\u001b[43mprecision\u001b[49m\u001b[38;5;241;43m=\u001b[39;49m\u001b[43mprecision\u001b[49m\u001b[43m)\u001b[49m\n\u001b[1;32m   2773\u001b[0m \u001b[38;5;28;01mif\u001b[39;00m b_ndim \u001b[38;5;241m==\u001b[39m \u001b[38;5;241m1\u001b[39m:\n\u001b[1;32m   2774\u001b[0m   contract_dims \u001b[38;5;241m=\u001b[39m ((a_ndim \u001b[38;5;241m-\u001b[39m \u001b[38;5;241m1\u001b[39m,), (\u001b[38;5;241m0\u001b[39m,))\n",
      "File \u001b[0;32m~/PycharmProjects/jax_test/JAX_jupyter/mynotebookenv/lib/python3.9/site-packages/jax/_src/lax/lax.py:724\u001b[0m, in \u001b[0;36mdot\u001b[0;34m(lhs, rhs, precision, preferred_element_type)\u001b[0m\n\u001b[1;32m    720\u001b[0m   \u001b[38;5;28;01mreturn\u001b[39;00m dot_general(lhs, rhs, (((lhs\u001b[38;5;241m.\u001b[39mndim \u001b[38;5;241m-\u001b[39m \u001b[38;5;241m1\u001b[39m,), (\u001b[38;5;241m0\u001b[39m,)), ((), ())),\n\u001b[1;32m    721\u001b[0m                      precision\u001b[38;5;241m=\u001b[39mprecision,\n\u001b[1;32m    722\u001b[0m                      preferred_element_type\u001b[38;5;241m=\u001b[39mpreferred_element_type)\n\u001b[1;32m    723\u001b[0m \u001b[38;5;28;01melse\u001b[39;00m:\n\u001b[0;32m--> 724\u001b[0m   \u001b[38;5;28;01mraise\u001b[39;00m \u001b[38;5;167;01mTypeError\u001b[39;00m(\u001b[38;5;124m\"\u001b[39m\u001b[38;5;124mIncompatible shapes for dot: got \u001b[39m\u001b[38;5;132;01m{}\u001b[39;00m\u001b[38;5;124m and \u001b[39m\u001b[38;5;132;01m{}\u001b[39;00m\u001b[38;5;124m.\u001b[39m\u001b[38;5;124m\"\u001b[39m\u001b[38;5;241m.\u001b[39mformat(\n\u001b[1;32m    725\u001b[0m       lhs\u001b[38;5;241m.\u001b[39mshape, rhs\u001b[38;5;241m.\u001b[39mshape))\n",
      "\u001b[0;31mTypeError\u001b[0m: Incompatible shapes for dot: got (150, 300) and (100000, 300)."
     ]
    }
   ],
   "source": [
    "import jax.numpy as jnp\n",
    "import numpy as np\n",
    "from jax import jit,grad,random,vmap\n",
    "\n",
    "\n",
    "def prod(mat_a,mat_b):\n",
    "    return mat_a@mat_b\n",
    "\n",
    "jit_prod = jit(prod)\n",
    "\n",
    "mat_a = np.random.random((30000,100))\n",
    "mat_b = np.random.random((100,780))\n",
    "\n",
    "#%timeit jit_prod(mat_a,mat_b)\n",
    "#%timeit prod(mat_a,mat_b)\n",
    "print(type(prod(mat_a,mat_b)))\n",
    "print(type(jit_prod(mat_a,mat_b)))\n",
    "\n",
    "\n",
    "\n",
    "key = random.PRNGKey(0)\n",
    "mat = random.normal(key, (150, 300))\n",
    "x = random.normal(key, (300, 100000))\n",
    "\n",
    "\n",
    "def apply_matrix(v):\n",
    "    return jnp.dot(mat, v)\n",
    "\n",
    "def naively_batched_apply_matrix(v_batched):\n",
    "    return jnp.stack([apply_matrix(v) for v in v_batched])\n",
    "\n",
    "\n",
    "\n",
    "vectorized_batched = vmap(apply_matrix)\n",
    "\n",
    "jit_vectorized_batched = jit(vectorized_batched)\n",
    "\n",
    "print('Simple')\n",
    "%timeit apply_matrix(x)\n",
    "print('Vmap batched')\n",
    "%timeit vectorized_batched(x)\n",
    "\n",
    "print('Jitted Vmap batched')\n",
    "%timeit jit_vectorized_batched(x)"
   ]
  },
  {
   "cell_type": "code",
   "execution_count": 2,
   "id": "2d7d1f43",
   "metadata": {},
   "outputs": [
    {
     "name": "stdout",
     "output_type": "stream",
     "text": [
      "8.76 s ± 84.4 ms per loop (mean ± std. dev. of 7 runs, 1 loop each)\n"
     ]
    }
   ],
   "source": [
    "@jit\n",
    "def apply_matrix(v):\n",
    "    return jnp.dot(mat, v)\n",
    "\n",
    "def naively_batched_apply_matrix(v_batched):\n",
    "    return jnp.stack([apply_matrix(v) for v in v_batched])\n",
    "key = random.PRNGKey(0)\n",
    "mat = random.normal(key, (150, 300))\n",
    "x = random.normal(key, (100000, 300))\n",
    "\n",
    "%timeit naively_batched_apply_matrix(x)"
   ]
  }
 ],
 "metadata": {
  "kernelspec": {
   "display_name": "Python 3 (ipykernel)",
   "language": "python",
   "name": "python3"
  },
  "language_info": {
   "codemirror_mode": {
    "name": "ipython",
    "version": 3
   },
   "file_extension": ".py",
   "mimetype": "text/x-python",
   "name": "python",
   "nbconvert_exporter": "python",
   "pygments_lexer": "ipython3",
   "version": "3.9.2"
  }
 },
 "nbformat": 4,
 "nbformat_minor": 5
}
